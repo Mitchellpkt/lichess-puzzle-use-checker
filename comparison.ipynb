{
 "cells": [
  {
   "cell_type": "markdown",
   "id": "15a441f3",
   "metadata": {},
   "source": [
    "## Import libraries"
   ]
  },
  {
   "cell_type": "code",
   "execution_count": 1,
   "id": "4a9611e0",
   "metadata": {},
   "outputs": [],
   "source": [
    "import pandas as pd\n",
    "import os as os"
   ]
  },
  {
   "cell_type": "markdown",
   "id": "d9a34e30",
   "metadata": {},
   "source": [
    "## Set paths"
   ]
  },
  {
   "cell_type": "code",
   "execution_count": 2,
   "id": "fc754ed8",
   "metadata": {},
   "outputs": [],
   "source": [
    "game_urls_path = os.path.join(os.curdir,'data', 'game_urls.txt')\n",
    "puzzle_urls = os.path.join(os.curdir,'data', 'puzzle_urls.csv')"
   ]
  },
  {
   "cell_type": "markdown",
   "id": "ff6c120f",
   "metadata": {},
   "source": [
    "## Import data"
   ]
  },
  {
   "cell_type": "markdown",
   "id": "5efc9ab8",
   "metadata": {},
   "source": [
    "Import player games"
   ]
  },
  {
   "cell_type": "code",
   "execution_count": 3,
   "id": "10c70b38",
   "metadata": {},
   "outputs": [],
   "source": [
    "games = list(pd.read_csv(game_urls_path, names=['id'])['id'])"
   ]
  },
  {
   "cell_type": "markdown",
   "id": "f2827061",
   "metadata": {},
   "source": [
    "Import puzzle games"
   ]
  },
  {
   "cell_type": "code",
   "execution_count": 4,
   "id": "4e84b695",
   "metadata": {},
   "outputs": [
    {
     "name": "stderr",
     "output_type": "stream",
     "text": [
      "<ipython-input-4-61c67b76481f>:2: FutureWarning: The default value of regex will change from True to False in a future version.\n",
      "  puzzles['tag'] = puzzles['url'].str.replace('https://lichess.org/','')\n"
     ]
    }
   ],
   "source": [
    "puzzles = pd.read_csv(puzzle_urls, names=['url','junk'], delimiter='#', usecols=['url'])\n",
    "puzzles['tag'] = puzzles['url'].str.replace('https://lichess.org/','')\n",
    "puzzles['id'] = puzzles['tag'].str.replace('/black','')\n",
    "puzzles = list(puzzles['id'])"
   ]
  },
  {
   "cell_type": "markdown",
   "id": "9afd8826",
   "metadata": {},
   "source": [
    "## Check for overlaps"
   ]
  },
  {
   "cell_type": "code",
   "execution_count": 5,
   "id": "162d7619",
   "metadata": {},
   "outputs": [],
   "source": [
    "def overlap(lst1, lst2):\n",
    "    return list(set(lst1) & set(lst2))"
   ]
  },
  {
   "cell_type": "code",
   "execution_count": 6,
   "id": "91b60300",
   "metadata": {},
   "outputs": [
    {
     "name": "stdout",
     "output_type": "stream",
     "text": [
      "[]\n"
     ]
    }
   ],
   "source": [
    "print(overlap(games, puzzles))"
   ]
  }
 ],
 "metadata": {
  "kernelspec": {
   "display_name": "Python 3",
   "language": "python",
   "name": "python3"
  },
  "language_info": {
   "codemirror_mode": {
    "name": "ipython",
    "version": 3
   },
   "file_extension": ".py",
   "mimetype": "text/x-python",
   "name": "python",
   "nbconvert_exporter": "python",
   "pygments_lexer": "ipython3",
   "version": "3.8.5"
  }
 },
 "nbformat": 4,
 "nbformat_minor": 5
}
